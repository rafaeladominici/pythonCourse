{
 "cells": [
  {
   "cell_type": "raw",
   "id": "a3e51d58-15a2-4ced-8c91-81b791ccd217",
   "metadata": {},
   "source": [
    "Crear un programa para calcular la nota final del estudiante en base a dos exámenes, los exámenes cuentan con un porcentaje distinto de la nota final\n",
    "nota_1  cuenta como el 25% de la nota final\n",
    "nota_2 cuenta como el 30% de la nota final\n",
    "nota_3 cuenta como el 45% de la nota final"
   ]
  },
  {
   "cell_type": "code",
   "execution_count": 36,
   "id": "98d44534-d90c-4bdc-9323-356ff018ff35",
   "metadata": {},
   "outputs": [
    {
     "name": "stdin",
     "output_type": "stream",
     "text": [
      "Nota de primer examen 10\n",
      "Nota de segundo examen 7\n",
      "Nota de tercer examen 5\n"
     ]
    }
   ],
   "source": [
    "examen1 = int(input('Nota de primer examen'))\n",
    "examen2 = int(input('Nota de segundo examen'))\n",
    "examen3 = int(input('Nota de tercer examen'))"
   ]
  },
  {
   "cell_type": "code",
   "execution_count": 37,
   "id": "c1e6542e-2538-4e6a-8c6b-a02effd40394",
   "metadata": {},
   "outputs": [
    {
     "name": "stdout",
     "output_type": "stream",
     "text": [
      "6.85\n"
     ]
    }
   ],
   "source": [
    "NotaFinal = examen1 * 0.25 + examen2 * 0.3 + examen3 * 0.45\n",
    "print(NotaFinal)"
   ]
  },
  {
   "cell_type": "raw",
   "id": "01b803cd-9e0c-45ea-82c2-87cab79cf2d4",
   "metadata": {},
   "source": []
  },
  {
   "cell_type": "code",
   "execution_count": null,
   "id": "eff830ac-4c59-4782-b37d-963933279169",
   "metadata": {},
   "outputs": [],
   "source": []
  }
 ],
 "metadata": {
  "kernelspec": {
   "display_name": "Python 3 (ipykernel)",
   "language": "python",
   "name": "python3"
  },
  "language_info": {
   "codemirror_mode": {
    "name": "ipython",
    "version": 3
   },
   "file_extension": ".py",
   "mimetype": "text/x-python",
   "name": "python",
   "nbconvert_exporter": "python",
   "pygments_lexer": "ipython3",
   "version": "3.9.7"
  }
 },
 "nbformat": 4,
 "nbformat_minor": 5
}

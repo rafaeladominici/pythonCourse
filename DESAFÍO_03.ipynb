{
 "cells": [
  {
   "cell_type": "markdown",
   "id": "07281b14-2af7-4042-8919-464530a04d97",
   "metadata": {},
   "source": [
    "#### 1) Escribí un programa que lea dos números por teclado y permita elegir entre 4 opciones en un menú:\n",
    "\n",
    "1.\tMostrar una suma de los dos números\n",
    "2.\tMostrar una resta de los dos números (el primero menos el segundo)\n",
    "3.\tMostrar una multiplicación de los dos números\n",
    "4.\tSi elige esta opción se interrumpirá la impresión del menú y el programa finalizará\n",
    "5.\tEn caso de no introducir una opción válida, el programa informará de que no es correcta."
   ]
  },
  {
   "cell_type": "code",
   "execution_count": 33,
   "id": "8b948d94-f24f-4692-906b-276aa72c8b18",
   "metadata": {},
   "outputs": [
    {
     "name": "stdin",
     "output_type": "stream",
     "text": [
      "Type a number:  2\n",
      "Type another number:  3\n"
     ]
    }
   ],
   "source": [
    "n1 = input('Type a number: ')\n",
    "n2 = input('Type another number: ')"
   ]
  },
  {
   "cell_type": "code",
   "execution_count": 43,
   "id": "5ba18cb6-e621-46e7-91ad-84e0cfd3ca50",
   "metadata": {},
   "outputs": [
    {
     "name": "stdout",
     "output_type": "stream",
     "text": [
      "Select a mathematical operation:\n",
      " 1) Sum\n",
      " 2) Subtraction\n",
      " 3) Multiplication\n"
     ]
    },
    {
     "name": "stdin",
     "output_type": "stream",
     "text": [
      "Enter the number corresponding to the chosen operation:  p\n"
     ]
    }
   ],
   "source": [
    "if ((n1.isnumeric())\n",
    "    & (n2.isnumeric())):\n",
    "        print('Select a mathematical operation:\\n 1) Sum\\n 2) Subtraction\\n 3) Multiplication')\n",
    "        operation = input('Enter the number corresponding to the chosen operation: ')\n",
    "\n",
    "else:\n",
    "    print('Entered characters must be numeric. Try again')"
   ]
  },
  {
   "cell_type": "code",
   "execution_count": 44,
   "id": "5160c811-a6cc-48de-bafb-b531a385548e",
   "metadata": {},
   "outputs": [
    {
     "name": "stdout",
     "output_type": "stream",
     "text": [
      "Invalid operation. Try again\n"
     ]
    }
   ],
   "source": [
    "if operation == '1':\n",
    "    print((int(n1) + int(n2)))\n",
    "    \n",
    "elif operation == '2':\n",
    "    print((int(n1) - int(n2)))\n",
    "    \n",
    "elif operation == '3':\n",
    "    print((int(n1) * int(n2)))\n",
    "\n",
    "else:\n",
    "    print('Invalid operation. Try again')"
   ]
  },
  {
   "cell_type": "code",
   "execution_count": null,
   "id": "3a1b684d-3689-46f9-b32c-e4f99e767b9f",
   "metadata": {},
   "outputs": [],
   "source": []
  },
  {
   "cell_type": "markdown",
   "id": "f1c1b76f-ef6e-4889-b0aa-a23ca51cffdf",
   "metadata": {},
   "source": [
    "#### 2) Escribí un programa que lea un número impar por teclado. Si el usuario no introduce un número impar, debe repetirse el proceso hasta que lo introduzca correctamente."
   ]
  },
  {
   "cell_type": "code",
   "execution_count": 196,
   "id": "53953802-2632-45ad-969c-1a3fb5eb8047",
   "metadata": {},
   "outputs": [
    {
     "name": "stdin",
     "output_type": "stream",
     "text": [
      "Enter an odd number:  6\n",
      "Enter an odd number:  3\n"
     ]
    },
    {
     "name": "stdout",
     "output_type": "stream",
     "text": [
      "3 is an odd number\n"
     ]
    }
   ],
   "source": [
    "n3 = 0\n",
    "\n",
    "while n3 % 2 == 0:\n",
    "    n3 = int(input('Enter an odd number: '))\n",
    "\n",
    "else:\n",
    "    print(f'{n3} is an odd number')"
   ]
  },
  {
   "cell_type": "code",
   "execution_count": null,
   "id": "c326ad43-6bbd-4c69-82ad-ac43b4cc9145",
   "metadata": {},
   "outputs": [],
   "source": []
  },
  {
   "cell_type": "markdown",
   "id": "f7f133f3-0b68-4d56-bbe8-ba3f1ae4e819",
   "metadata": {},
   "source": [
    "#### 3) Escribí un programa que sume todos los números enteros impares desde el 0 hasta el 100:\n",
    "Podes utilizar la funciones sum() y range() para hacerlo más fácil. El tercer parámetro en la función range(inicio, fin, salto) indica un salto de números."
   ]
  },
  {
   "cell_type": "code",
   "execution_count": 108,
   "id": "3bf45727-d8c7-4f87-8b28-fe3636b400c0",
   "metadata": {},
   "outputs": [
    {
     "name": "stdout",
     "output_type": "stream",
     "text": [
      "2500\n"
     ]
    }
   ],
   "source": [
    "n4 = 0\n",
    "sumOperation = 0\n",
    "\n",
    "while n4 <= 100:\n",
    "    if n4 % 2 != 0:\n",
    "        sumOperation += n4\n",
    "    n4 += 1\n",
    "    \n",
    "print(sumOperation)"
   ]
  },
  {
   "cell_type": "code",
   "execution_count": null,
   "id": "5ec1da65-c569-4d20-a5ed-3b7232c46b33",
   "metadata": {},
   "outputs": [],
   "source": []
  },
  {
   "cell_type": "markdown",
   "id": "34b341c1-4ab1-4f52-8336-621f1db6146e",
   "metadata": {},
   "source": [
    "#### 4) Escribí un programa que pida al usuario cuantos números quiere introducir. Luego lee todos los números y realiza una media aritmética"
   ]
  },
  {
   "cell_type": "code",
   "execution_count": 170,
   "id": "e33826e1-a5ad-4cd5-a096-a646c21c4e0e",
   "metadata": {},
   "outputs": [
    {
     "name": "stdin",
     "output_type": "stream",
     "text": [
      "How many numbers do you want to calculate the average of?:  3\n"
     ]
    }
   ],
   "source": [
    "n5 = int(input('How many numbers do you want to calculate the average of?: '))\n",
    "average = sumOperation / n5"
   ]
  },
  {
   "cell_type": "code",
   "execution_count": 171,
   "id": "21060ed5-07df-4756-8934-6a899f27e7cc",
   "metadata": {},
   "outputs": [
    {
     "name": "stdin",
     "output_type": "stream",
     "text": [
      "Enter a number:  5\n",
      "Enter a number:  9\n",
      "Enter a number:  8\n"
     ]
    },
    {
     "name": "stdout",
     "output_type": "stream",
     "text": [
      "The average is: 7.333333333333333\n"
     ]
    }
   ],
   "source": [
    "for x in range(n5):\n",
    "    sumOperation += int(input('Enter a number: '))\n",
    "\n",
    "print(f'The average is: {average}')"
   ]
  },
  {
   "cell_type": "code",
   "execution_count": null,
   "id": "e2245b34-927f-4e8d-a9ba-4d2245953726",
   "metadata": {},
   "outputs": [],
   "source": []
  },
  {
   "cell_type": "markdown",
   "id": "8a6648d2-14f3-447a-a77e-bb0cc827d869",
   "metadata": {},
   "source": [
    "#### 5) Escribí un programa que pida al usuario un número entero del 0 al 9, y que mientras el número no sea correcto se repita el proceso. Luego debe comprobar si el número se encuentra en la lista de números y notificarlo:"
   ]
  },
  {
   "cell_type": "code",
   "execution_count": 176,
   "id": "b4152de8-9676-4cf9-9861-e3a6223ecaaa",
   "metadata": {},
   "outputs": [],
   "source": [
    "listNumbers = [1, 3, 6, 9]"
   ]
  },
  {
   "cell_type": "code",
   "execution_count": 184,
   "id": "4bcdd9c3-1178-4d53-b0e7-41f9210f13bc",
   "metadata": {},
   "outputs": [
    {
     "name": "stdin",
     "output_type": "stream",
     "text": [
      "a number from 0 to 9:  3\n"
     ]
    }
   ],
   "source": [
    "while True:\n",
    "    x = int(input('Enter a number from 0 to 9: '))\n",
    "    if (0 <= x <= 9):\n",
    "        break"
   ]
  },
  {
   "cell_type": "code",
   "execution_count": 185,
   "id": "950d3776-b78b-4a5b-9768-cfecf7ae5875",
   "metadata": {},
   "outputs": [
    {
     "name": "stdout",
     "output_type": "stream",
     "text": [
      "3 is in the list\n"
     ]
    }
   ],
   "source": [
    "if x in listNumbers:\n",
    "    print(f'{x} is in the list')\n",
    "    \n",
    "else:\n",
    "    print(f'{x} is not in the list')"
   ]
  },
  {
   "cell_type": "code",
   "execution_count": null,
   "id": "94887702-b93f-43b9-bd74-c0dec19bec2c",
   "metadata": {},
   "outputs": [],
   "source": []
  },
  {
   "cell_type": "markdown",
   "id": "344e0584-4bee-400f-a501-62490bd28bf2",
   "metadata": {},
   "source": [
    "#### 6) Utilizando la función range() y la conversión a listas genera las siguientes listas dinámicamente:\n",
    "1. Todos los números del 0 al 10 [0, 1, 2, ..., 10]\n",
    "2. Todos los números del -10 al 0 [-10, -9, -8, ..., 0]\n",
    "3. Todos los números pares del 0 al 20 [0, 2, 4, ..., 20]\n",
    "4. Todos los números impares entre -20 y 0 [-19, -17, -15, ..., -1]\n",
    "5. Todos los números múltiples de 5 del 0 al 50 [0, 5, 10, ..., 50]"
   ]
  },
  {
   "cell_type": "code",
   "execution_count": 190,
   "id": "67198071-b0de-43dc-a678-66d76edb6364",
   "metadata": {},
   "outputs": [
    {
     "name": "stdout",
     "output_type": "stream",
     "text": [
      "[0, 1, 2, 3, 4, 5, 6, 7, 8, 9, 10]\n"
     ]
    }
   ],
   "source": [
    "list1 = list(range(0, 11))\n",
    "print(list1)"
   ]
  },
  {
   "cell_type": "code",
   "execution_count": 191,
   "id": "6397af94-564e-4ce9-87d1-e88dffc1f767",
   "metadata": {},
   "outputs": [
    {
     "name": "stdout",
     "output_type": "stream",
     "text": [
      "[-10, -9, -8, -7, -6, -5, -4, -3, -2, -1, 0]\n"
     ]
    }
   ],
   "source": [
    "list2 = list(range(-10, 1))\n",
    "print(list2)"
   ]
  },
  {
   "cell_type": "code",
   "execution_count": 195,
   "id": "0fe6f65b-d550-4bea-aa40-bed889edcb20",
   "metadata": {},
   "outputs": [
    {
     "name": "stdout",
     "output_type": "stream",
     "text": [
      "[0, 2, 4, 6, 8, 10, 12, 14, 16, 18, 20]\n"
     ]
    }
   ],
   "source": [
    "list3 = list(range(0, 21, 2)) #de 0 al 20 y considerando pares\n",
    "print(list3)"
   ]
  },
  {
   "cell_type": "code",
   "execution_count": null,
   "id": "89508f81-b572-4e7e-b3ce-06df67c8169b",
   "metadata": {},
   "outputs": [],
   "source": []
  },
  {
   "cell_type": "markdown",
   "id": "debe7d94-2174-4d1c-9c1c-26891d2e52d7",
   "metadata": {},
   "source": [
    "#### 7) Dadas dos listas, debes generar una tercera con todos los elementos que se repitan en ellas, pero no debe repetirse ningún elemento en la nueva lista:\n",
    "\n",
    "1. lista_1 = [\"h\",'o','l','a',' ', 'm','u','n','d','o']\n",
    "2. lista_2 = [\"h\",'o','l','a',' ', 'l','u','n','a']"
   ]
  },
  {
   "cell_type": "code",
   "execution_count": 208,
   "id": "fc6e5f48-e414-4b18-b1a0-779a2ae49eb8",
   "metadata": {},
   "outputs": [],
   "source": [
    "lista_1 = [\"h\",'o','l','a',' ', 'm','u','n','d','o']\n",
    "lista_2 = [\"h\",'o','l','a',' ', 'l','u','n','a']\n",
    "list3 = []"
   ]
  },
  {
   "cell_type": "code",
   "execution_count": 216,
   "id": "6932697a-cb02-4a44-9006-d2d295263b81",
   "metadata": {},
   "outputs": [
    {
     "name": "stdout",
     "output_type": "stream",
     "text": [
      "['h', 'o', 'l', 'a', ' ', 'u', 'n']\n"
     ]
    }
   ],
   "source": [
    "for x in lista_1:\n",
    "    if ((x in lista_2)\n",
    "        & (x not in list3)):\n",
    "        list3.append(x)\n",
    "\n",
    "print(list3)"
   ]
  },
  {
   "cell_type": "code",
   "execution_count": null,
   "id": "e8bdaa95-2fd0-4e2b-b9f2-3359a483893d",
   "metadata": {},
   "outputs": [],
   "source": []
  }
 ],
 "metadata": {
  "kernelspec": {
   "display_name": "Python 3 (ipykernel)",
   "language": "python",
   "name": "python3"
  },
  "language_info": {
   "codemirror_mode": {
    "name": "ipython",
    "version": 3
   },
   "file_extension": ".py",
   "mimetype": "text/x-python",
   "name": "python",
   "nbconvert_exporter": "python",
   "pygments_lexer": "ipython3",
   "version": "3.9.7"
  }
 },
 "nbformat": 4,
 "nbformat_minor": 5
}

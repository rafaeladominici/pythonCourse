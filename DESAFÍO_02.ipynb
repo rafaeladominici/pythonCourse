{
 "cells": [
  {
   "cell_type": "markdown",
   "id": "c7b908a4-a0ea-4627-8cf8-e1a178335a15",
   "metadata": {},
   "source": [
    "Verificaciones ejercicio 1"
   ]
  },
  {
   "cell_type": "code",
   "execution_count": 2,
   "id": "906c330b-5497-48d7-86b1-37e434dc2411",
   "metadata": {},
   "outputs": [
    {
     "data": {
      "text/plain": [
       "tuple"
      ]
     },
     "execution_count": 2,
     "metadata": {},
     "output_type": "execute_result"
    }
   ],
   "source": [
    "# a = dato \n",
    "# type(dato)\n",
    "\n",
    "a = (1, -5, \"Hola!\")\n",
    "type (a)"
   ]
  },
  {
   "cell_type": "markdown",
   "id": "fdece353-0e27-4eba-8e8e-8ce29bb2b6a2",
   "metadata": {},
   "source": [
    "Verificaciones ejercicio 2"
   ]
  },
  {
   "cell_type": "code",
   "execution_count": 3,
   "id": "e8576d15-733c-49ee-9c61-7c03b75f2546",
   "metadata": {},
   "outputs": [],
   "source": [
    "a = 10\n",
    "b = -5\n",
    "c = 'hola'\n",
    "d = [1,2,3]\n",
    "e = (4,5,6)"
   ]
  },
  {
   "cell_type": "code",
   "execution_count": 7,
   "id": "c3fdc567-b27a-40c1-8c40-902524668806",
   "metadata": {},
   "outputs": [
    {
     "name": "stdout",
     "output_type": "stream",
     "text": [
      "(4, 5, 6, 7, 8, 9)\n"
     ]
    }
   ],
   "source": [
    "print(e+(7,8,9))"
   ]
  },
  {
   "cell_type": "markdown",
   "id": "f7bf70c7-b6d2-4044-836b-a918f8faa952",
   "metadata": {},
   "source": [
    "Ejercicio 3"
   ]
  },
  {
   "cell_type": "code",
   "execution_count": 8,
   "id": "1475ffdf-d981-4552-9d7b-d4c2fa95600c",
   "metadata": {},
   "outputs": [
    {
     "data": {
      "text/plain": [
       "6.0"
      ]
     },
     "execution_count": 8,
     "metadata": {},
     "output_type": "execute_result"
    }
   ],
   "source": [
    "numero_1 = 9\n",
    "numero_2 = 3\n",
    "numero_3 = 6\n",
    "\n",
    "media = (numero_1 + numero_2 + numero_3) / 3\n",
    "media"
   ]
  },
  {
   "cell_type": "markdown",
   "id": "cfc81431-18d3-4863-8470-ffcd747978cd",
   "metadata": {},
   "source": [
    "Ejercicio 4"
   ]
  },
  {
   "cell_type": "raw",
   "id": "3402dc66-e399-4586-98e8-b56a9896c45f",
   "metadata": {},
   "source": [
    "desarrolla un programa para calcular la nota final. Para ello vamos a suponer que cada número es una nota y que queremos obtener la nota media. Cada nota tiene un valor porcentual:\n",
    "●\tLa primera nota vale un 15% del total\n",
    "●\tLa segunda nota vale un 35% del total\n",
    "●\tLa tercera nota vale un 50% del total"
   ]
  },
  {
   "cell_type": "code",
   "execution_count": 9,
   "id": "04901960-51ac-41f8-9239-5210ec3444bd",
   "metadata": {},
   "outputs": [],
   "source": [
    "nota1Ponderacion = 0.15\n",
    "nota2Ponderacion = 0.35\n",
    "nota3Ponderacion = 0.5"
   ]
  },
  {
   "cell_type": "code",
   "execution_count": 10,
   "id": "ee081ee5-e3e2-4e0c-867a-d4db2767b01d",
   "metadata": {},
   "outputs": [],
   "source": [
    "nota1 = 10\n",
    "nota2 = 7 \n",
    "nota3 = 4"
   ]
  },
  {
   "cell_type": "code",
   "execution_count": 12,
   "id": "c6425d2c-67d7-4dbb-a884-219d91447a74",
   "metadata": {},
   "outputs": [
    {
     "data": {
      "text/plain": [
       "5.949999999999999"
      ]
     },
     "execution_count": 12,
     "metadata": {},
     "output_type": "execute_result"
    }
   ],
   "source": [
    "notaFinal = nota1 * nota1Ponderacion + nota2 * nota2Ponderacion + nota3 * nota3Ponderacion\n",
    "notaFinal"
   ]
  },
  {
   "cell_type": "markdown",
   "id": "c5c3a891-f50a-48a3-abd5-07747c68d483",
   "metadata": {},
   "source": [
    "Ejercicio 5"
   ]
  },
  {
   "cell_type": "raw",
   "id": "f55faaaa-d7a7-4561-af30-203843ec1d6f",
   "metadata": {},
   "source": [
    "Partirás de: \n",
    "matriz = [ \n",
    "    [1, 5, 1],\n",
    "    [2, 1, 2],\n",
    "    [3, 0, 1],\n",
    "    [1, 4, 4]\n",
    "]\n",
    "\n",
    "Debes llegar a: \n",
    "\n",
    "matriz = [ \n",
    "    [1, 5, 1, 7],\n",
    "    [2, 1, 2, 5],\n",
    "    [3, 0, 1, 4],\n",
    "    [1, 4, 4, 9]\n",
    "]"
   ]
  },
  {
   "cell_type": "code",
   "execution_count": 23,
   "id": "17fea8c1-d5e9-45da-aaed-8847c87e24e2",
   "metadata": {},
   "outputs": [
    {
     "data": {
      "text/plain": [
       "[[1, 5, 1], [2, 1, 2], [3, 0, 1], [1, 4, 4]]"
      ]
     },
     "execution_count": 23,
     "metadata": {},
     "output_type": "execute_result"
    }
   ],
   "source": [
    "matriz = [ \n",
    "    [1, 5, 1],\n",
    "    [2, 1, 2],\n",
    "    [3, 0, 1],\n",
    "    [1, 4, 4]\n",
    "]\n",
    "\n",
    "matriz"
   ]
  },
  {
   "cell_type": "code",
   "execution_count": 24,
   "id": "164e9543-bfaf-4e02-81b6-415b3d19a9e3",
   "metadata": {},
   "outputs": [
    {
     "data": {
      "text/plain": [
       "[[1, 5, 1, 7], [2, 1, 2, 5], [3, 0, 1, 4], [1, 4, 4, 9]]"
      ]
     },
     "execution_count": 24,
     "metadata": {},
     "output_type": "execute_result"
    }
   ],
   "source": [
    "matriz[0].append(7)\n",
    "matriz[1].append(5)\n",
    "matriz[2].append(4)\n",
    "matriz[3].append(9)\n",
    "matriz"
   ]
  },
  {
   "cell_type": "code",
   "execution_count": null,
   "id": "1e052aa7-40aa-49c5-9571-df73f5313807",
   "metadata": {},
   "outputs": [],
   "source": []
  }
 ],
 "metadata": {
  "kernelspec": {
   "display_name": "Python 3 (ipykernel)",
   "language": "python",
   "name": "python3"
  },
  "language_info": {
   "codemirror_mode": {
    "name": "ipython",
    "version": 3
   },
   "file_extension": ".py",
   "mimetype": "text/x-python",
   "name": "python",
   "nbconvert_exporter": "python",
   "pygments_lexer": "ipython3",
   "version": "3.9.7"
  }
 },
 "nbformat": 4,
 "nbformat_minor": 5
}
